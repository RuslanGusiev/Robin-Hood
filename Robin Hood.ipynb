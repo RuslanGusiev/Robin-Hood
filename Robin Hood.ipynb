{
 "cells": [
  {
   "cell_type": "code",
   "execution_count": 96,
   "metadata": {},
   "outputs": [
    {
     "name": "stdout",
     "output_type": "stream",
     "text": [
      "Robin Hood's arrows: [(4, 5), (4, 5), (5, 7), (2, 2), (-3, 2), (-3, 2), (5, 7), (5, 7), (2, 2)]\n",
      "Arrows in Q1: 11\n",
      "Arrows in Q2: 6\n",
      "Arrows in Q3: 2\n",
      "Arrows in Q4: 3\n",
      "Point:(0, 2), Distance = 2.0\n",
      "Number of missed arrows =  2\n"
     ]
    }
   ],
   "source": [
    "points = [(4, 5), (0, 2), (4, 7), (1, -3), (3, -2), (4, 5),\n",
    "          (3, 2), (5, 7), (-5, 7), (2, 2), (-4, 5), (0, -2),\n",
    "          (-4, 7), (-1, 3), (-3, 2), (-4, -5), (-3, 2),\n",
    "          (5, 7), (5, 7), (2, 2), (9, 9), (-8, -9)]\n",
    "q1, q2, q3, q4 = 0, 0, 0, 0\n",
    "result_list = []\n",
    "for x in points:\n",
    "    if points.count(x) > 1:\n",
    "        result_list.append(x)        \n",
    "print(\"Robin Hood's arrows:\", result_list) \n",
    "\n",
    "for x, y in points:\n",
    "    if (x < 0) & (y < 0):\n",
    "        q3 += 1\n",
    "    elif (x < 0) & (y >= 0):\n",
    "        q2 += 1\n",
    "    elif (x >= 0) & (y >=0):\n",
    "        q1 += 1\n",
    "    elif (x >= 0) & (y < 0):\n",
    "        q4 += 1\n",
    "print('Arrows in Q1:', q1)\n",
    "print('Arrows in Q2:', q2)\n",
    "print('Arrows in Q3:', q3)\n",
    "print('Arrows in Q4:', q4)\n",
    "\n",
    "def dist(tuple):\n",
    "    d = 0\n",
    "    list = []\n",
    "    for x, y in tuple:\n",
    "        d = (x ** 2 + y ** 2) ** 0.5\n",
    "        list.append(d)\n",
    "    min_value = min(list)\n",
    "    min_index = list.index(min_value)\n",
    "    return tuple[min_index], min_value\n",
    "point, distance  = dist(points)\n",
    "print('Point:' + str(point)+', Distance = ' + str(distance))\n",
    "\n",
    "missed_arrows = 0\n",
    "radius = 9\n",
    "for x, y in points:\n",
    "    if (x **2 + y ** 2) > radius ** 2:\n",
    "        missed_arrows += 1\n",
    "print('Number of missed arrows = ', missed_arrows)"
   ]
  },
  {
   "cell_type": "code",
   "execution_count": null,
   "metadata": {},
   "outputs": [],
   "source": []
  }
 ],
 "metadata": {
  "kernelspec": {
   "display_name": "Python 3",
   "language": "python",
   "name": "python3"
  },
  "language_info": {
   "codemirror_mode": {
    "name": "ipython",
    "version": 3
   },
   "file_extension": ".py",
   "mimetype": "text/x-python",
   "name": "python",
   "nbconvert_exporter": "python",
   "pygments_lexer": "ipython3",
   "version": "3.7.3"
  }
 },
 "nbformat": 4,
 "nbformat_minor": 2
}
